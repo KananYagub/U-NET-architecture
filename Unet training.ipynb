{
 "cells": [
  {
   "cell_type": "code",
   "execution_count": 1,
   "metadata": {},
   "outputs": [
    {
     "name": "stderr",
     "output_type": "stream",
     "text": [
      "C:\\Users\\khand\\Anaconda3\\envs\\TensorFlow-GPU\\lib\\site-packages\\h5py\\__init__.py:40: UserWarning: h5py is running against HDF5 1.10.5 when it was built against 1.10.4, this may cause problems\n",
      "  '{0}.{1}.{2}'.format(*version.hdf5_built_version_tuple)\n",
      "Using TensorFlow backend.\n"
     ]
    }
   ],
   "source": [
    "from model import *\n",
    "from data import *"
   ]
  },
  {
   "cell_type": "markdown",
   "metadata": {},
   "source": [
    "Train your Unet with membrane data¶\n",
    "membrane data is in folder membrane/, it is a binary classification task.\n",
    "\n",
    "The input shape of image and mask are the same :(batch_size,rows,cols,channel = 1)"
   ]
  },
  {
   "cell_type": "code",
   "execution_count": 2,
   "metadata": {},
   "outputs": [
    {
     "name": "stderr",
     "output_type": "stream",
     "text": [
      "C:\\Users\\khand\\Desktop\\Thesis\\Thesis final\\model.py:55: UserWarning: Update your `Model` call to the Keras 2 API: `Model(inputs=Tensor(\"in..., outputs=Tensor(\"co...)`\n",
      "  model = Model(input = inputs, output = conv10)\n"
     ]
    },
    {
     "name": "stdout",
     "output_type": "stream",
     "text": [
      "Epoch 1/5\n",
      "Found 1630 images belonging to 1 classes.\n",
      "Found 1630 images belonging to 1 classes.\n",
      "200/200 [==============================] - 2378s 12s/step - loss: 0.2430 - accuracy: 0.9187\n",
      "\n",
      "Epoch 00001: loss improved from inf to 0.24297, saving model to unet_membrane.hdf5\n",
      "Epoch 2/5\n",
      "200/200 [==============================] - 2494s 12s/step - loss: 0.2476 - accuracy: 0.9147\n",
      "\n",
      "Epoch 00002: loss did not improve from 0.24297\n",
      "Epoch 3/5\n",
      "200/200 [==============================] - 2456s 12s/step - loss: 0.2349 - accuracy: 0.9213\n",
      "\n",
      "Epoch 00003: loss improved from 0.24297 to 0.23501, saving model to unet_membrane.hdf5\n",
      "Epoch 4/5\n",
      "200/200 [==============================] - 2354s 12s/step - loss: 0.2403 - accuracy: 0.9167\n",
      "\n",
      "Epoch 00004: loss did not improve from 0.23501\n",
      "Epoch 5/5\n",
      "200/200 [==============================] - 2453s 12s/step - loss: 0.2282 - accuracy: 0.9227\n",
      "\n",
      "Epoch 00005: loss improved from 0.23501 to 0.22795, saving model to unet_membrane.hdf5\n"
     ]
    },
    {
     "data": {
      "text/plain": [
       "<keras.callbacks.callbacks.History at 0x17ebe82f788>"
      ]
     },
     "execution_count": 2,
     "metadata": {},
     "output_type": "execute_result"
    }
   ],
   "source": [
    "data_gen_args = dict(rotation_range=0.2,\n",
    "                    width_shift_range=0.05,\n",
    "                    height_shift_range=0.05,\n",
    "                    shear_range=0.05,\n",
    "                    zoom_range=0.05,\n",
    "                    horizontal_flip=True,\n",
    "                    fill_mode='nearest')\n",
    "\n",
    "\n",
    "myGene = trainGenerator(4,'Data/Train data/','Labels_aug','Mask_aug',data_gen_args,save_to_dir = None)\n",
    "model = unet()\n",
    "model_checkpoint = ModelCheckpoint('unet_membrane.hdf5', monitor='loss',verbose=1, save_best_only=True)\n",
    "model.fit_generator(myGene,steps_per_epoch=200,epochs=5,callbacks=[model_checkpoint])\n"
   ]
  },
  {
   "cell_type": "code",
   "execution_count": null,
   "metadata": {},
   "outputs": [],
   "source": []
  }
 ],
 "metadata": {
  "kernelspec": {
   "display_name": "Python 3 (ipykernel)",
   "language": "python",
   "name": "python3"
  },
  "language_info": {
   "codemirror_mode": {
    "name": "ipython",
    "version": 3
   },
   "file_extension": ".py",
   "mimetype": "text/x-python",
   "name": "python",
   "nbconvert_exporter": "python",
   "pygments_lexer": "ipython3",
   "version": "3.9.13"
  }
 },
 "nbformat": 4,
 "nbformat_minor": 4
}
